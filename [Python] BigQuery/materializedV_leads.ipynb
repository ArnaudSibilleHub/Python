{
 "cells": [
  {
   "cell_type": "code",
   "execution_count": null,
   "metadata": {},
   "outputs": [],
   "source": [
    "!python3 -m pip install google-cloud-bigquery\n",
    "!pip install google-cloud-bigquery\n"
   ]
  },
  {
   "cell_type": "code",
   "execution_count": null,
   "metadata": {},
   "outputs": [],
   "source": [
    "!pip install google-cloud-bigquery"
   ]
  },
  {
   "cell_type": "code",
   "execution_count": null,
   "metadata": {},
   "outputs": [],
   "source": [
    "#import and connect to bigquery\n",
    "from google.cloud import bigquery\n",
    "\n",
    "#import operating system package to \n",
    "import os\n",
    "# os.environ[\"GOOGLE_APPLICATION_CREDENTIALS\"] = \"C:/Users/BGE/Google Drive/Big Query/bge-2024-720fd54b5813.json\"\n",
    "# os.environ[\"GOOGLE_APPLICATION_CREDENTIALS\"] = \"C:\\Users\\BGE\\Google Drive\\Big Query/bge-2024-720fd54b5813.json\"\n",
    "\n",
    "os.environ[\"GOOGLE_APPLICATION_CREDENTIALS\"] = \"C:/Users/BGE/Google Drive/Big Query/bge-2024-a9a17e3beedc.json\""
   ]
  },
  {
   "cell_type": "code",
   "execution_count": null,
   "metadata": {},
   "outputs": [],
   "source": [
    "#\n",
    "\n",
    "def union_new_tables(project_id, dataset_id, materialized_view_id, new_table_prefix):\n",
    "    # Initialize BigQuery client\n",
    "    client = bigquery.Client(project = project_id)\n",
    "\n",
    "    # Get list of existing tables in the dataset\n",
    "    list_existing_tables = [table.table_id for table in client.list_tables(dataset_id)]\n",
    "\n",
    "    # Filter out tables that match the new table prefix\n",
    "    new_tables = [table for table in list_existing_tables if table.startswith(new_table_prefix)]\n",
    "\n",
    "    if not new_tables:\n",
    "        print(f\"No new tables found with prefix {new_table_prefix}\")\n",
    "\n",
    "    # Construct the SQL query to union all new tables\n",
    "        #start of creation\n",
    "    union_query = \"\"\"\n",
    "    CREATE OR REPLACE MATERIALIZED VIEW {dataset}.{materialized_view} OPTIONS (max_staleness = INTERVAL 6 HOUR,\n",
    "    metadata_cache_mode = 'AUTOMATIC') AS \"\"\".format(dataset=dataset_id, materialized_view=materialized_view_id)\n",
    "        #declare existing materialized view in BigQ \n",
    "    union_query += \" \\nSELECT * FROM {dataset}.{base_materialized_view} \".format(dataset=dataset_id, base_materialized_view=materialized_view_id)\n",
    "\n",
    "        #loop for adding every new tables \n",
    "    for table in new_tables:\n",
    "        union_query += \" \\nUNION ALL \\nSELECT * FROM {dataset}.{new_table}\".format(dataset=dataset_id, new_table=table)\n",
    "    \n",
    "    # Execute the union query\n",
    "        #config the query\n",
    "    job_config = bigquery.QueryJobConfig()\n",
    "        #use standard SQL\n",
    "    job_config.use_legacy_sql = False\n",
    "        #execute and complete the query\n",
    "    query_job = client.query(union_query, job_config=job_config)\n",
    "    query_job.result()  # Wait for the job to complete\n",
    "\n",
    "if __name__ == \"__main__\": #assuming this script is executing like file in python interpreter (dunder name value is “__main__) or as a module (dunder name value is the name of the file)                    \n",
    "    project_id = 'bge-2024'\n",
    "    dataset_id = 'Leads_per_period'\n",
    "    materialized_view_id = 'materialized_v_leads_union'\n",
    "    new_table_prefix = 'to_'\n",
    "\n",
    "union_new_tables(project_id, dataset_id, materialized_view_id, new_table_prefix)\n"
   ]
  },
  {
   "cell_type": "code",
   "execution_count": null,
   "metadata": {},
   "outputs": [],
   "source": [
    "from google.cloud import bigquery\n",
    "\n",
    "def union_new_tables(project_id, dataset_id, materialized_view_id, new_table_prefix):\n",
    "    # Initialize BigQuery client\n",
    "    client = bigquery.Client(project=project_id)\n",
    "\n",
    "    # Get list of existing tables in the dataset\n",
    "    list_existing_tables = [table.table_id for table in client.list_tables(dataset_id)]\n",
    "\n",
    "    # Filter out tables that match the new table prefix\n",
    "    new_tables = [table for table in list_existing_tables if table.startswith(new_table_prefix)]\n",
    "\n",
    "    if not new_tables:\n",
    "        print(f\"No new tables found with prefix {new_table_prefix}\")\n",
    "        return\n",
    "\n",
    "    # Construct the SQL query to union all new tables\n",
    "    union_query = \"\"\"\n",
    "    CREATE OR REPLACE MATERIALIZED VIEW `{materialized_view}` AS \n",
    "    SELECT * FROM `{materialized_view}` \"\"\".format(materialized_view=materialized_view_id)\n",
    "\n",
    "    # Loop through new tables and add them to the union query\n",
    "    for table in new_tables:\n",
    "        union_query += \"\\nUNION ALL \\nSELECT * FROM `{table}`\".format(table=table)\n",
    "\n",
    "    # Execute the union query\n",
    "    job_config = bigquery.QueryJobConfig()\n",
    "    job_config.use_legacy_sql = False\n",
    "    query_job = client.query(union_query, job_config=job_config)\n",
    "    query_job.result()  # Wait for the job to complete\n",
    "\n",
    "if __name__ == \"__main__\":\n",
    "    project_id = 'bge-2024'\n",
    "    dataset_id = 'bge-2024.Leads_per_period'\n",
    "    materialized_view_id = 'bge-2024.Leads_per_period.materialized_v_leads_union'\n",
    "    new_table_prefix = 'to_'\n",
    "\n",
    "    union_new_tables(project_id, dataset_id, materialized_view_id, new_table_prefix)\n"
   ]
  }
 ],
 "metadata": {
  "kernelspec": {
   "display_name": "base",
   "language": "python",
   "name": "python3"
  },
  "language_info": {
   "codemirror_mode": {
    "name": "ipython",
    "version": 3
   },
   "file_extension": ".py",
   "mimetype": "text/x-python",
   "name": "python",
   "nbconvert_exporter": "python",
   "pygments_lexer": "ipython3",
   "version": "3.11.7"
  }
 },
 "nbformat": 4,
 "nbformat_minor": 2
}

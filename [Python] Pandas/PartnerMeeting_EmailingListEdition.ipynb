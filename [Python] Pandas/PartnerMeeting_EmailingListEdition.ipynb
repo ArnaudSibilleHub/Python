{
 "cells": [
  {
   "cell_type": "code",
   "execution_count": null,
   "metadata": {},
   "outputs": [],
   "source": [
    "import pandas as pd\n",
    "import datetime as dt\n",
    "import numpy as np\n",
    "import os "
   ]
  },
  {
   "cell_type": "code",
   "execution_count": null,
   "metadata": {},
   "outputs": [],
   "source": [
    "list2023 = pd.read_excel(\"C:/Users/BGE/Downloads/listingActionsIndividuelles (7).xlsx\")\n",
    "list2024 = pd.read_excel(\"C:/Users/BGE/Downloads/listingActionsIndividuelles (8).xlsx\")"
   ]
  },
  {
   "cell_type": "code",
   "execution_count": null,
   "metadata": {},
   "outputs": [],
   "source": [
    "list_Maubeuge_042024 = pd.concat([list2023, list2024])\n",
    "list_Maubeuge_042024"
   ]
  },
  {
   "cell_type": "code",
   "execution_count": null,
   "metadata": {},
   "outputs": [],
   "source": [
    "list_Maubeuge_042024.columns\n"
   ]
  },
  {
   "cell_type": "code",
   "execution_count": null,
   "metadata": {},
   "outputs": [],
   "source": [
    "list_Maubeuge_042024['totalJ2 accpt_float'] = list_Maubeuge_042024['totalJ2 accpt'].astype('float')\n",
    "list_Maubeuge_042024_filtered = list_Maubeuge_042024.loc[list_Maubeuge_042024['totalJ2 accpt_float'] >= 2 ]\n",
    "list_Maubeuge_042024_filtered"
   ]
  },
  {
   "cell_type": "code",
   "execution_count": null,
   "metadata": {},
   "outputs": [],
   "source": [
    "#display the sum and proportin of how many time each value appears\n",
    "list_état_projet_nb = pd.Series(list_Maubeuge_042024_filtered['dernier état projet'].value_counts(''))\n",
    "list_état_projet_prop = pd.Series(list_Maubeuge_042024_filtered['dernier état projet'].value_counts(' '))\n",
    "state_list_project = pd.DataFrame([list_état_projet_nb, list_état_projet_prop]).T\n",
    "state_list_project"
   ]
  },
  {
   "cell_type": "code",
   "execution_count": null,
   "metadata": {},
   "outputs": [],
   "source": [
    "state_list = pd.DataFrame(list_Maubeuge_042024_filtered['dernier état projet']).drop_duplicates(ignore_index=True)\n",
    "\n",
    "state_list_ok = state_list.loc[[1,3,5,7]]\n",
    "state_list_ok_series = state_list_ok['dernier état projet']\n",
    "state_list_ok_series"
   ]
  },
  {
   "cell_type": "code",
   "execution_count": null,
   "metadata": {},
   "outputs": [],
   "source": [
    "# list_Maubeuge_042024_filtered.loc[ (list_Maubeuge_042024_filtered['dernier état projet'].isin(state_list_ok)) | (list_Maubeuge_042024_filtered['dernier état projet'].isna()) ]\n",
    "\n",
    "# list filtered with colum \"dernier etat projet\" after have cleaned the cells values \n",
    "    #create a mask\n",
    "mask = list_Maubeuge_042024_filtered['dernier état projet'].isin(state_list_ok_series) \n",
    "    #filter through the mask\n",
    "list_Maubeuge_042024_filtered_2_S = list_Maubeuge_042024_filtered.loc[mask] \n",
    "list_Maubeuge_042024_filtered_2_S"
   ]
  },
  {
   "cell_type": "code",
   "execution_count": null,
   "metadata": {},
   "outputs": [],
   "source": [
    "filter_col = ['Civilite', 'Nom', 'Prenom', 'email']\n",
    "list_Maubeuge_042024_filtered_2_S = list_Maubeuge_042024_filtered_2_S.loc[:,filter_col]"
   ]
  },
  {
   "cell_type": "code",
   "execution_count": null,
   "metadata": {},
   "outputs": [],
   "source": [
    "list_Maubeuge_042024_filtered_2_S.to_csv('listEmailingMaubeuge0424.csv', index=False)"
   ]
  }
 ],
 "metadata": {
  "kernelspec": {
   "display_name": ".venv",
   "language": "python",
   "name": "python3"
  },
  "language_info": {
   "codemirror_mode": {
    "name": "ipython",
    "version": 3
   },
   "file_extension": ".py",
   "mimetype": "text/x-python",
   "name": "python",
   "nbconvert_exporter": "python",
   "pygments_lexer": "ipython3",
   "version": "3.11.2"
  }
 },
 "nbformat": 4,
 "nbformat_minor": 2
}

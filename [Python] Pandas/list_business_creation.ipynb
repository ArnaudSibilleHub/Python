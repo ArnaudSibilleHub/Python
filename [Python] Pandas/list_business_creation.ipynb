{
 "cells": [
  {
   "cell_type": "code",
   "execution_count": null,
   "metadata": {},
   "outputs": [],
   "source": [
    "#import packages\n",
    "import pandas as pd\n",
    "import datetime as dt\n",
    "import numpy as np\n",
    "import unidecode \n",
    "from unidecode import unidecode\n",
    "\n",
    "import os"
   ]
  },
  {
   "cell_type": "code",
   "execution_count": null,
   "metadata": {},
   "outputs": [],
   "source": [
    "# dtype_mapping = {'Date de création': 'datetime64[D]'}\n",
    "\n",
    "# raw_list = pd.read_excel('C:/Users/BGE/Google Drive/GIT/listeCreations 2021 to 2024 02 29.xlsx', dtype=dtype_mapping)\n",
    "raw_list = pd.read_excel('C:/Users/BGE/Google Drive/GIT/listeCreations 2021 to 2024 02 29.xlsx')\n",
    "raw_list.info()\n",
    "raw_list.head(50)\n",
    "raw_list['Date de création'].dtype\n",
    "# raw_list['Date de création'].astype('<M8[D]')\n",
    "# raw_list['Date de création'] = pd.to_datetime(raw_list['Date de création'])\n",
    "# raw_list['Date de création']= raw_list['Date de création'].dt.floor('D')\n",
    "raw_list['Date de création'] = pd.to_datetime(raw_list['Date de création'], unit='D', origin='1899-12-30')\n"
   ]
  },
  {
   "cell_type": "code",
   "execution_count": null,
   "metadata": {},
   "outputs": [],
   "source": [
    "raw_list"
   ]
  },
  {
   "cell_type": "code",
   "execution_count": null,
   "metadata": {},
   "outputs": [],
   "source": [
    "#replace \"nan\" by \"unknown\"\n",
    "replace_nan = lambda x: x.replace(np.nan, 'unknown')\n",
    "\n",
    "columns_to_check = [ column_str for column_str in raw_list.columns if raw_list.columns.dtype == 'object' ]\n",
    "mask = raw_list.columns.isin(columns_to_check)\n",
    "\n",
    "# Filter DataFrame colums using the mask\n",
    "columns_to_check = raw_list.columns[mask]\n",
    "\n",
    "# Apply the replace_nan function only to columns that are not of type 'object'\n",
    "raw_list[columns_to_check] = raw_list[columns_to_check].apply(replace_nan)\n",
    "\n",
    "raw_list\n"
   ]
  },
  {
   "cell_type": "code",
   "execution_count": null,
   "metadata": {},
   "outputs": [],
   "source": [
    "#concatenate \"Nom\" and \"Prenom\"\n",
    "raw_list['Entrepreneur'] = raw_list['Prénom'] + ' ' + raw_list['Nom']\n",
    "raw_list.drop(columns=['Prénom', 'Nom'], inplace=True)\n",
    "\n",
    "#reordered columns\n",
    "raw_list_col_reordered = ['Lieu accueil', 'Entrepreneur', 'Lieu de suivi', 'Raison sociale', 'Date de création',\n",
    "       'Type de création', 'Statut fiscal', 'Banque', 'Expert comptable',\n",
    "       'Phase STARTER Post Création acceptée', 'total anté (h)',\n",
    "       'total anté Starter (h)', 'ref. Entreprise', 'total h suivi', 'CAPE',\n",
    "       'Durée (h) consulting', 'Durée (h) formation créa', 'partenaire'\n",
    "       ]\n",
    "raw_list = raw_list[raw_list_col_reordered]\n",
    "raw_list"
   ]
  },
  {
   "cell_type": "code",
   "execution_count": null,
   "metadata": {},
   "outputs": [],
   "source": [
    "# harmonize between tables coaches names\n",
    "\n",
    "#split ref Entreprise column, join in inverse way firstname / name\n",
    "raw_list[['Name ref', 'Firstname ref']] = raw_list['ref. Entreprise'].str.rsplit(' ', n=1, expand=True)\n",
    "raw_list['Conseiller'] = raw_list['Firstname ref'] + ' ' + raw_list['Name ref']\n",
    "\n",
    "#erase old ref Entreprise column and splitted columns\n",
    "raw_list.drop(columns=['ref. Entreprise', 'Name ref', 'Firstname ref'])\n",
    "\n",
    "#reorder columns\n",
    "raw_list_columns_reordered = ['Lieu accueil', 'Entrepreneur', 'Lieu de suivi', 'Conseiller', 'Raison sociale',\n",
    "       'Date de création', 'Type de création', 'Statut fiscal', 'Banque',\n",
    "       'Expert comptable', 'Phase STARTER Post Création acceptée',\n",
    "       'total anté (h)', 'total anté Starter (h)',\n",
    "       'total h suivi', 'CAPE', 'Durée (h) consulting',\n",
    "       'Durée (h) formation créa', 'partenaire']\n",
    "cleaned_list = raw_list[raw_list_columns_reordered]\n",
    "cleaned_list"
   ]
  },
  {
   "cell_type": "code",
   "execution_count": null,
   "metadata": {},
   "outputs": [],
   "source": [
    "# Define lambdas for transformations\n",
    "lower_index = lambda x: x.lower() if isinstance(x, str) else x\n",
    "erase_indent = lambda x: x.replace('-', '') if isinstance(x, str) else x\n",
    "strip_index = lambda x: x.strip() if isinstance(x, str) else x\n",
    "accents_strip = lambda x: unidecode(x) if isinstance(x, str) else x  # Apply unidecode only to string values\n",
    "\n",
    "# Define function to decode string using multiple encodings\n",
    "def decode_string(original_string):\n",
    "    if isinstance(original_string, int):  # Check if input is an integer (likely an Excel date)\n",
    "        return original_string  # Return the integer as is\n",
    "    elif isinstance(original_string, float):  # Check if input is a float\n",
    "        return original_string  # Return the float as is\n",
    "    else:\n",
    "        encodings_to_try = ['utf-8', 'latin-1', 'windows-1252']\n",
    "        encoded_string = original_string.encode('utf-8')  # Encode once before the loop\n",
    "        for encoding in encodings_to_try:\n",
    "            try:\n",
    "                decoded_text = encoded_string.decode(encoding)\n",
    "                return decoded_text\n",
    "            except UnicodeDecodeError:\n",
    "                print(f\"Failed to decode with {encoding}\")\n",
    "        return original_string  # Return original value if all decoding attempts fail\n",
    "\n",
    "# Identify columns with dtype 'object' (string columns)\n",
    "str_columns_list = [str_column for str_column in raw_list.columns if raw_list[str_column].dtype == 'object']\n",
    "\n",
    "# Apply transformations to selected string columns\n",
    "for column in str_columns_list:\n",
    "    cleaned_list[column] = raw_list[column].apply(decode_string).apply(lower_index).apply(erase_indent).apply(strip_index).apply(accents_strip)\n",
    "\n",
    "# Output the transformed DataFrame\n",
    "cleaned_list\n",
    "\n"
   ]
  },
  {
   "cell_type": "code",
   "execution_count": null,
   "metadata": {},
   "outputs": [],
   "source": [
    "#csv export \n",
    "cleaned_list.to_csv('cleaned_list_biz_started_from2021_until29022024.csv', index = False)"
   ]
  }
 ],
 "metadata": {
  "kernelspec": {
   "display_name": "base",
   "language": "python",
   "name": "python3"
  },
  "language_info": {
   "codemirror_mode": {
    "name": "ipython",
    "version": 3
   },
   "file_extension": ".py",
   "mimetype": "text/x-python",
   "name": "python",
   "nbconvert_exporter": "python",
   "pygments_lexer": "ipython3",
   "version": "3.11.7"
  }
 },
 "nbformat": 4,
 "nbformat_minor": 2
}

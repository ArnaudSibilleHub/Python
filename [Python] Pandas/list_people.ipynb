{
 "cells": [
  {
   "cell_type": "code",
   "execution_count": null,
   "metadata": {},
   "outputs": [],
   "source": [
    "#import packages\n",
    "import numpy as np\n",
    "import pandas as pd\n",
    "import datetime as dt\n",
    "import os "
   ]
  },
  {
   "cell_type": "code",
   "execution_count": null,
   "metadata": {},
   "outputs": [],
   "source": [
    "#import page\n",
    "import requests as rq\n",
    "base_url = 'https://minimisj2.bge-hautsdefrance.fr/contactsLDAP_photo_modal.php'\n",
    "id= '43017140066119446'\n",
    "page = rq.get(f\"{base_url}?id={id}\", auth=('xxxx', 'xxxxx'))\n",
    "list = page.content\n",
    "list"
   ]
  },
  {
   "cell_type": "code",
   "execution_count": null,
   "metadata": {},
   "outputs": [],
   "source": [
    "#Beautifulsoup\n",
    "from bs4 import BeautifulSoup\n",
    "list_bs = BeautifulSoup(list, 'html.parser')\n",
    "list_bs"
   ]
  },
  {
   "cell_type": "code",
   "execution_count": null,
   "metadata": {},
   "outputs": [],
   "source": [
    "list_name = list_bs.find_all('h1')\n",
    "list_name = [name.get_text() for name in list_name]\n",
    "list_name\n",
    "len(list_name)"
   ]
  },
  {
   "cell_type": "code",
   "execution_count": null,
   "metadata": {},
   "outputs": [],
   "source": [
    "list_position = list_bs.find_all('h2')\n",
    "list_position = [position.get_text() for position in list_position]\n",
    "list_position\n",
    "len(list_position)"
   ]
  },
  {
   "cell_type": "code",
   "execution_count": null,
   "metadata": {},
   "outputs": [],
   "source": [
    "list_agency = list_bs.find_all('h3')\n",
    "list_agency = [agency.get_text() for key, agency in enumerate(list_agency) if key % 2 == 0]\n",
    "list_agency"
   ]
  },
  {
   "cell_type": "code",
   "execution_count": null,
   "metadata": {},
   "outputs": [],
   "source": [
    "type(list_agency)\n",
    "len(list_agency)"
   ]
  },
  {
   "cell_type": "code",
   "execution_count": null,
   "metadata": {},
   "outputs": [],
   "source": [
    "try:\n",
    "    list(zip(list_name, list_position, list_agency))\n",
    "\n",
    "except Exception as ex:\n",
    "    print(f\"An unexpected exception occurred: {ex}\")\n",
    "    # Handle other exceptions"
   ]
  },
  {
   "cell_type": "code",
   "execution_count": null,
   "metadata": {},
   "outputs": [],
   "source": [
    "global_list = {'name' : list_name,\n",
    "               'position' : list_position,\n",
    "               'agency' : list_agency}\n",
    "global_list = pd.DataFrame(global_list)\n",
    "global_list"
   ]
  },
  {
   "cell_type": "code",
   "execution_count": null,
   "metadata": {},
   "outputs": [],
   "source": [
    "global_list.to_csv('people_global_list.csv', index=False)"
   ]
  },
  {
   "cell_type": "markdown",
   "metadata": {},
   "source": [
    "SELENIUM"
   ]
  },
  {
   "cell_type": "code",
   "execution_count": null,
   "metadata": {},
   "outputs": [],
   "source": [
    "import selenium \n",
    "from selenium import webdriver\n",
    "from selenium.webdriver.chrome.service import Service\n",
    "from selenium.webdriver.chrome.options import Options\n",
    "\n",
    "#import packages dynamic scraping\n",
    "from selenium.webdriver.common.by import By\n",
    "from selenium.webdriver.common.keys import Keys\n"
   ]
  },
  {
   "cell_type": "code",
   "execution_count": null,
   "metadata": {},
   "outputs": [],
   "source": [
    "#dynamic website\n",
    "from selenium.webdriver.support.ui import WebDriverWait\n",
    "from selenium.webdriver.support import expected_conditions as EC\n",
    "from selenium.common.exceptions import TimeoutException, WebDriverException, NoSuchElementException\n"
   ]
  },
  {
   "cell_type": "code",
   "execution_count": null,
   "metadata": {},
   "outputs": [],
   "source": [
    "try:\n",
    "    service = Service()\n",
    "    options = webdriver.ChromeOptions\n",
    "    driver = webdriver.Chrome(service=service, options=option)\n",
    "except Exception as ex:\n",
    "    print(f\"An unexpected exception occurred: {ex}\")\n",
    "    # Handle other exceptions\n",
    "\n",
    "finally:\n",
    "    if 'driver' in locals() and driver is not None:\n",
    "        driver.quit()"
   ]
  }
 ],
 "metadata": {
  "kernelspec": {
   "display_name": "Python 3",
   "language": "python",
   "name": "python3"
  },
  "language_info": {
   "codemirror_mode": {
    "name": "ipython",
    "version": 3
   },
   "file_extension": ".py",
   "mimetype": "text/x-python",
   "name": "python",
   "nbconvert_exporter": "python",
   "pygments_lexer": "ipython3",
   "version": "3.11.7"
  }
 },
 "nbformat": 4,
 "nbformat_minor": 2
}
